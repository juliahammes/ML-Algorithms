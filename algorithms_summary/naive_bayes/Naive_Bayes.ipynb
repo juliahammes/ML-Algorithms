{
  "nbformat": 4,
  "nbformat_minor": 0,
  "metadata": {
    "colab": {
      "provenance": []
    },
    "kernelspec": {
      "name": "python3",
      "display_name": "Python 3"
    },
    "language_info": {
      "name": "python"
    }
  },
  "cells": [
    {
      "cell_type": "markdown",
      "source": [
        "# <font color='green'>Naive Bayes</font>"
      ],
      "metadata": {
        "id": "tFOlgQNW7fgt"
      }
    },
    {
      "cell_type": "markdown",
      "source": [
        "Naive Bayes é um dos modelos mais populares no aprendizado de máquina.\n",
        "\n",
        "<font color='blue'>**\"Bayes\"**</font> se da pelo fato de que o algoritmo utiliza-se de uma abordagem probabilística para realizar suas predições, mais precisamente o algoritmo é baseado em **inferência baysiana**, onde você calcula a probabilidade dependendo de uma determinada condição.\n",
        "\n",
        "Já o nome <font color='blue'>**\"Naive\"**</font> se dá pelo fato de que o algoritmo assume que todas as features são independentes o que nem sempre é verdade em dados reais.\n"
      ],
      "metadata": {
        "id": "irjf77BS7mab"
      }
    },
    {
      "cell_type": "markdown",
      "source": [
        "## Equação"
      ],
      "metadata": {
        "id": "UVfpYuEc-up-"
      }
    },
    {
      "cell_type": "markdown",
      "source": [
        "O Teorema de Bayes é a principal forma para se calcular probabilidade condicional."
      ],
      "metadata": {
        "id": "lTPif26E1yWf"
      }
    },
    {
      "cell_type": "markdown",
      "source": [
        "Equação para o Teorema de Bayes:"
      ],
      "metadata": {
        "id": "0RmYFGbWTgSl"
      }
    },
    {
      "cell_type": "markdown",
      "source": [
        "$$ P(A|B) = \\frac{P(B|A) * P(A)}{P(B)}\\ $$"
      ],
      "metadata": {
        "id": "JuSxOIhUUgtw"
      }
    },
    {
      "cell_type": "markdown",
      "source": [
        "Quando se tem mais de uma condição, podemos adicioná-la a equação:\n",
        "<br /><br />\n",
        "\n",
        "$$ P(A|B,C) = \\frac{P(B,C|A) * P(A)}{P(B,C)}\\ $$"
      ],
      "metadata": {
        "id": "zGv3sEtj-xme"
      }
    },
    {
      "cell_type": "markdown",
      "source": [
        "Quando pensamos no treinamento do modelo, para que a equação acima seja viável precisaríamos de um conjunto de dados com um grande número de observações, pois precisamos que essa amostra de dados contenha exemplos para estimar de maneira eficiente a distribuição de probabilidade para todas as combinações possíveis de valores, caso contrário não teremos exemplos para determinadas combinações o que nos daria uma probabilidade de 0 e dessa forma não conseguiriamos realizar as predições.\n",
        "\n",
        "Além disso, se formos aplicar o Teorema de Bayes diretamente o cálculo se tornará complexo conforme o número de features aumentar."
      ],
      "metadata": {
        "id": "v1AK-MaO3PpB"
      }
    },
    {
      "cell_type": "markdown",
      "source": [
        "A solução para isso é alterar a fórmula para que o cálculo se torne mais simples e para que não haja uma necessidade de combinar todas as features.\n",
        "Na fórmula proposta por Bayes todas as features são consideradas dependentes, podemos remover essa suposição e passar a considerar cada uma das variaveis como independentes uma das outras."
      ],
      "metadata": {
        "id": "4sVfLOI85nXI"
      }
    },
    {
      "cell_type": "markdown",
      "source": [
        "O modelo Naive Bayes assume que ambos os eventos são independentes e exclui o denominador da equação acima:\n",
        "<br /><br />\n",
        "\n",
        "$$ P(A|B,C) = P(B|A) * P(C|A) * P(A) $$"
      ],
      "metadata": {
        "id": "scCXqWX--xqO"
      }
    },
    {
      "cell_type": "markdown",
      "source": [
        "## Tipos de modelo Naive Bayes\n",
        "\n",
        "Dependendo dos dados em que se está trabalhando, você precisará utilizar um determinado tipo de algoritmo, sendo eles:\n",
        "\n",
        "**MULTINOMIAL** <br /> \n",
        "Deve ser utilizado quando trabalhamos com dados discretos.\n",
        "\n",
        "**GAUSSIAN** <br /> \n",
        "Deve ser utilizado ao se trabalhar com dados contínuos que seguem uma distribuição normal.\n",
        "\n",
        "**BINOMIAL** <br /> \n",
        "Deve ser utilizado quando os dados de entrada são booleanos."
      ],
      "metadata": {
        "id": "EKQtyqPv-xuH"
      }
    },
    {
      "cell_type": "markdown",
      "source": [
        "## Prós\n",
        "\n",
        "1.   Simplicidade e o tempo rápido de computação;\n",
        "2.   Fácil de implementar;\n",
        "3.   Fácil de interpretar;\n",
        "4.   Não requer uma quantidade muito grande dados de treinamento;"
      ],
      "metadata": {
        "id": "uA2WM--6XaRe"
      }
    },
    {
      "cell_type": "markdown",
      "source": [
        "## Contras\n",
        "\n",
        "1.   Assume que todas as features são independentes, o que raramente ocorre na vida real;\n",
        "2.   Naive Bayes é rápido porém isso muitas vezes prejudica a acurácia;\n",
        "3.   Assume que as features são todas igualmente importantes para o resultado."
      ],
      "metadata": {
        "id": "vEEgJUZmX1Mr"
      }
    },
    {
      "cell_type": "code",
      "source": [],
      "metadata": {
        "id": "JiirXMkoYdqR"
      },
      "execution_count": null,
      "outputs": []
    }
  ]
}