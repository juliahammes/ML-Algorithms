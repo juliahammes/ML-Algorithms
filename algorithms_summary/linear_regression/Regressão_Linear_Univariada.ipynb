{
  "nbformat": 4,
  "nbformat_minor": 0,
  "metadata": {
    "colab": {
      "provenance": []
    },
    "kernelspec": {
      "name": "python3",
      "display_name": "Python 3"
    },
    "language_info": {
      "name": "python"
    }
  },
  "cells": [
    {
      "cell_type": "markdown",
      "source": [
        "# <font color='green'>Regressão Linear Univariada</font>"
      ],
      "metadata": {
        "id": "d8WF91tJMg8a"
      }
    },
    {
      "cell_type": "markdown",
      "source": [
        "A Regressão Linear Univariada ou Regressão Linear Simples é utilizada para ajustar uma linha reta aos dados, tendo como objetivo prever uma resposta quantitativa Y com base em uma única variável preditora X."
      ],
      "metadata": {
        "id": "nvyDx9FkNARh"
      }
    },
    {
      "cell_type": "markdown",
      "source": [
        "## Equação"
      ],
      "metadata": {
        "id": "jG63znBxvTCU"
      }
    },
    {
      "cell_type": "code",
      "execution_count": null,
      "metadata": {
        "colab": {
          "base_uri": "https://localhost:8080/",
          "height": 83
        },
        "id": "94QyUd-IMBEc",
        "outputId": "89a98283-2e31-4684-dfb1-c2b6c98dd7f5"
      },
      "outputs": [
        {
          "output_type": "execute_result",
          "data": {
            "image/png": "[encoded data removed]",
            "text/plain": [
              "<IPython.core.display.Image object>"
            ]
          },
          "metadata": {},
          "execution_count": 1
        }
      ],
      "source": [
        "from IPython.display import Image\n",
        "Image(\"reg_linear_1.png\")"
      ]
    },
    {
      "cell_type": "markdown",
      "source": [
        "Ao ajustar um modelo de regressão linear simples o que precisamos fazer é encontrar os parâmentros α e β, sendo α a intercepção e β a inclinação da reta, de modo que a reta de regressão resultante seja o mais próximo possível dos n pontos de dados.\n",
        "\n",
        "A intercepção é o valor esperado de Y quando X=0 e a inclinação é o aumento médio em Y associado a um aumento de uma unidade em X."
      ],
      "metadata": {
        "id": "GXtoSfLyvdar"
      }
    },
    {
      "cell_type": "markdown",
      "source": [
        "## Função de Custo\n",
        "\n"
      ],
      "metadata": {
        "id": "he4XTJUmwnkk"
      }
    },
    {
      "cell_type": "markdown",
      "source": [
        "A definição da função de custo é o primeiro passo para implementar a regressão linear. Ela nos dirá quão bem o modelo está indo para que possamos tentar melhorá-lo.\n",
        "\n",
        "Em Machine Learning existem diferentes funções de custo para diferentes aplicações.\n",
        "\n",
        "A função de custo mais utilizada para regressão linear é a função de custo de erro quadrado (squared error cost function)."
      ],
      "metadata": {
        "id": "2N5UIKAMwuV0"
      }
    },
    {
      "cell_type": "code",
      "source": [
        "from IPython.display import Image\n",
        "Image(\"reg_linear_2.png\")"
      ],
      "metadata": {
        "colab": {
          "base_uri": "https://localhost:8080/",
          "height": 134
        },
        "id": "LiGibWwszOgk",
        "outputId": "06987a77-8cd6-4d4a-c6a3-5a9bcffcfa8b"
      },
      "execution_count": null,
      "outputs": [
        {
          "output_type": "execute_result",
          "data": {
            "image/png": "[encoded data removed]",
            "text/plain": [
              "<IPython.core.display.Image object>"
            ]
          },
          "metadata": {},
          "execution_count": 2
        }
      ]
    },
    {
      "cell_type": "markdown",
      "source": [
        "Como o objetivo na regressão linear é encontrar os parâmetros α e β, como encontraremos o melhor valor para esses parâmetros sendo que o valor da predição deve ser o mais próximo possível do verdadeiro valor de Y?\n",
        "\n",
        "Para isso precisamos **minimizar** a função de custo.\n",
        "\n",
        "Sendo assim, será necessário um algoritmo eficiente que encontre automaticamente os valores dos parâmetros α e β que fornecem a melhor linha de ajuste, ou seja, que minimize a função de custo.\n",
        "\n",
        "Um dos algorimos mais utilizados em machine learning para isso é o Gradiente Descendente.\n"
      ],
      "metadata": {
        "id": "DsqU9u7q0Bjj"
      }
    },
    {
      "cell_type": "markdown",
      "source": [
        "## Descida do Gradiente\n",
        "\n",
        "**Gradient Descent** é um algoritmo de otimização utilizado para encontrar o valor mínimo de uma função.\n",
        "\n",
        "Como primeiro passo inicia-se os parâmetros com valores aleatórios, sendo assim ele parte de algum lugar qualquer e em seguida o algoritmo iterativamente move-se para baixo para procurar o valor ideal de α e β, avançando em direção a um conjunto de valores de parâmetros que minimizam a função, ou seja, que a nova linha forneça taxas de erro menores.\n",
        "Importante frizar que deve-se realizar o update dos parâmetros simultaneamente.\n",
        "\n",
        "### Equação\n",
        "\n",
        "Repetir até convergir{\n",
        "\n",
        "$$ temp_w = w - α\\frac{\\partial}{\\partial w} J(w,b)\\ $$\n",
        "\n",
        "\n",
        "$$ temp_b = b - α\\frac{\\partial}{\\partial b} J(w,b)\\ $$\n",
        "\n",
        "$$ w = temp_w \\ $$\n",
        "$$ b = temp_b \\ $$\n"
      ],
      "metadata": {
        "id": "SofP-PyvuENe"
      }
    },
    {
      "cell_type": "markdown",
      "source": [
        "#### Taxa de Aprendizado\n",
        "\n",
        "A Taxa de Aprendizagem determina o tamanho do passo que devemos dar em cada iteração. \n",
        "A escolha da taxa de aprendizado terá um impacto enorme na eficiência do algoritmo gradient descent.\n",
        "\n",
        "Se a taxa de aprendizado for muito pequena, o algoritmo será muito devegar e levará muito tempo para chegar no mínimo local.\n",
        "\n",
        "Se a taxa de aprendizado for muito grande, o algoritmo terá passos muito longos e pode nunca chegar no mínimo local."
      ],
      "metadata": {
        "id": "gYZjHbI3xOcn"
      }
    },
    {
      "cell_type": "markdown",
      "source": [
        "## Suposições\n",
        "\n",
        "Antes de utilizarmos Regressão Linear para resolução de um problema, precisamos levar em conta algumas característica dos nosso dados, para assim entender se esse é o algoritmo mais indicado para o caso e garantir a qualidade do nosso modelo."
      ],
      "metadata": {
        "id": "f8OAfQ2A1eBk"
      }
    },
    {
      "cell_type": "markdown",
      "source": [
        "1.   Precisamos verificar se existe uma **relação entre a variável preditora e o nosso target** ao escolher qual modelo utilizar. Podemos fazer isso através do coeficiente de correlação ou através de um estudo de colineariedade entre as variáveis, caso não houver relação entre as variáveis não fará sentido utilizar um modelo de regressão linear.\n",
        "\n",
        "\n",
        "2.   **Não pode haver correlação entre as variáveis preditoras**. Pois para encontrarmos os coefiientes será necessário calcular a inversa da matriz, isso só poderá ser feito se o determinante for diferente de zero, e o determinante será zero se houver uma dependência linear entre as variáveis. Quando usamos pacotes prontos com o algoritmo para cálculo da regressão linear, mesmo o determinante sendo zero será gerado um resultado, pois há tratamento para que nesses casos não ocorra erro, sendo assim o resultado será gerado mesmo havendo correlação, porém será um resultado ruim. Quando temos duas ou mais variáveis correlacionadas o modelo não pode identificar qual delas está impactando na variável target.\n",
        "\n",
        "\n",
        "3.   Os resíduos são a diferença entre os valores de uma variável e seus valores previstos. **Os resíduos devem ter uma distribuição normal**, o que indica que a média entre os valores previstos e observados é próxima a zero.\n",
        "\n",
        "\n",
        "4.   Uma das suposições que precisam ser atendidas para que o modelo tenha boa performance é a homocedasticidade, ou seja, **a variância dos resíduos deverá ser constante**. Entre as formas de verificar se os resíduos tem a mesma variância estão:\n",
        "\n",
        "*   *Plot de resíduos versus valores ajustados*: caso a variabilidade dos resíduos aumentar a medida que os valores ajustados aumenta, será uma violação da suposição de homocedasticidade.\n",
        "*   *Teste de homocedasticidade*: entre os teste de homocedasticidade podemos citar o teste Breusch-Pagan, caso o valor p for menor do que 0,05 rejeitamos a hipótese nula de que a variância dos resíduos é constante.\n",
        "\n",
        "\n",
        "\n",
        "\n"
      ],
      "metadata": {
        "id": "33ltH7Pk5Cjq"
      }
    },
    {
      "cell_type": "markdown",
      "source": [
        "## Prós\n",
        "\n",
        "1.   Simplicidade para implementação;\n",
        "2.   Eficiência no treinamento;\n",
        "3.   Overfitting pode ser reduzido com regularização;\n",
        "4.   Tem boa performance quando os dados são linearmente separáveis."
      ],
      "metadata": {
        "id": "7R-RWbiDn61h"
      }
    },
    {
      "cell_type": "markdown",
      "source": [
        "## Contras\n",
        "\n",
        "\n",
        "\n",
        "1.   Assume que os dados são independentes;\n",
        "2.   Propenso a ruído e overfitting;\n",
        "3.   Sensível a outliers.\n",
        "\n",
        "\n",
        "\n",
        "\n",
        "\n",
        "\n"
      ],
      "metadata": {
        "id": "M08Jetv3oVI4"
      }
    }
  ]
}