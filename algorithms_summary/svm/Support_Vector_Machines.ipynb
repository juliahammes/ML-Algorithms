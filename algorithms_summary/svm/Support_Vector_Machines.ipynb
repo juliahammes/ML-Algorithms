{
  "nbformat": 4,
  "nbformat_minor": 0,
  "metadata": {
    "colab": {
      "provenance": []
    },
    "kernelspec": {
      "name": "python3",
      "display_name": "Python 3"
    },
    "language_info": {
      "name": "python"
    }
  },
  "cells": [
    {
      "cell_type": "markdown",
      "source": [
        "# <font color='green'>Support Vector Machines (SVMs)</font>"
      ],
      "metadata": {
        "id": "aU3-k_2OBzsy"
      }
    },
    {
      "cell_type": "markdown",
      "source": [
        "SVM é um algoritmo de Machine Learning cujo objetivo é separar 2 classes através de um hiperplano.\n",
        "\n",
        "Podemos considerar para um conjunto de dados diferentes hiperplanos de separação de classes, então como o SVM define o melhor hiperplano?\n",
        "\n",
        "O primeiro algoritmo SVM que surgiu, também conhecido como \"classificador de margem máxima\", define como melhor hiperplano aquele que maximiza a distância entre o hiperplano e os pontos mais próximos, essa distância é conhecida como \"margem\", já os pontos mais próximos são definidos como \"vetores de suporte\" pelo fato de serem eles que controlam o hiperplano. \n",
        "\n",
        "Esse algoritmo tem um bom desempenho quando os dados são linearmente separáveis, mas e quando os dados não são completamente linearmente separaveis?"
      ],
      "metadata": {
        "id": "ibDPIX3QBz8x"
      }
    },
    {
      "cell_type": "code",
      "source": [],
      "metadata": {
        "id": "ZwZrMI0AFpfZ"
      },
      "execution_count": null,
      "outputs": []
    }
  ]
}